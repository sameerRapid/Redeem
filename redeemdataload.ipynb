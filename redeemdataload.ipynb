{
 "cells": [
  {
   "cell_type": "code",
   "execution_count": 38,
   "metadata": {},
   "outputs": [],
   "source": [
    "# from IPython.core.interactiveshell import InteractiveShell\n",
    "# InteractiveShell.ast_node_interactivity = \"all\"\n",
    "import pandas as pd\n",
    "import seaborn as sns\n",
    "sns.set()\n",
    "import gc\n",
    "gc.collect()\n",
    "%matplotlib inline\n",
    "import matplotlib.pyplot as plt\n",
    "from IPython.display import set_matplotlib_formats\n",
    "from IPython.display import clear_output\n",
    "set_matplotlib_formats('retina')\n",
    "#from tqdm import tqdm\n",
    "#tqdm.pandas()\n",
    "import numpy as np\n",
    "from pyhive import presto\n",
    "from datetime import datetime, timedelta\n",
    "# from bson import ObjectId\n",
    "from functools import reduce\n",
    "from sklearn.cluster import KMeans\n",
    "# from pymongo import MongoClient\n",
    "import glob\n",
    "import warnings\n",
    "warnings.filterwarnings('ignore')\n",
    "from datetime import date\n",
    "import json\n",
    "import re\n",
    "#import dtale\n",
    "#from h3 import h3\n",
    "# import pandasql as ps\n",
    "import datetime"
   ]
  },
  {
   "cell_type": "code",
   "execution_count": 106,
   "metadata": {},
   "outputs": [],
   "source": [
    "metabase_connection = presto.connect(\n",
    "        # host='bi-trino-2.serving.data.production.internal',\n",
    "#         host='bi-trino.serving.data.production.internal',\n",
    "        #host='bi-presto.serving.data.production.internal',\n",
    "        #host='prime-trino.serving.data.production.internal',\n",
    "         host=\"processing-2.processing.data.production.internal\",\n",
    "         \n",
    "#         host=\"presto.processing.yoda.run\",\n",
    "        # host=\"processing.processing.data.production.internal\",\n",
    "\n",
    "\n",
    "        port=80,\n",
    "        protocol='http',\n",
    "        catalog ='hive',\n",
    "        username='abhishek.akki@rapido.bike')\n",
    "    "
   ]
  },
  {
   "cell_type": "code",
   "execution_count": 113,
   "metadata": {},
   "outputs": [
    {
     "name": "stdout",
     "output_type": "stream",
     "text": [
      "2025-01-01 00:00:00\n",
      "2025-01-02 00:00:00\n",
      "2025-01-03 00:00:00\n",
      "2025-01-04 00:00:00\n",
      "2025-01-05 00:00:00\n",
      "2025-01-06 00:00:00\n",
      "2025-01-07 00:00:00\n",
      "2025-01-08 00:00:00\n",
      "2025-01-09 00:00:00\n",
      "2025-01-10 00:00:00\n"
     ]
    }
   ],
   "source": [
    "startdate=pd.to_datetime('2025-01-01',format='%Y-%m-%d')\n",
    "RedeemDataLoad=pd.DataFrame()\n",
    "for i in range(10):\n",
    "      q=f\"\"\"\n",
    "            with tbl as(\n",
    "                  select _id as redeemId,uniqueid,yyyymmdd,userdata_city,row_number() over(partition by uniqueid order by updated_epoch desc) as r,approver,\n",
    "                  transform(CAST((json_extract(data, '$.orderData.ordersData')) AS ARRAY<JSON>), x -> json_extract_scalar(x, '$.orderId')) as order_id,\n",
    "                  transform(CAST((json_extract(data, '$.orderData.ordersData')) AS ARRAY<JSON>), x -> json_extract_scalar(x, '$.distance')) as distance,\n",
    "                  transform(CAST((json_extract(data, '$.orderData.ordersData')) AS ARRAY<JSON>), x -> json_extract_scalar(x, '$.serviceId')) as serviceId,\n",
    "                  cast(json_extract(data, '$.orderData.finalIncentiveOrder') as array<json>) as finalIncentiveOrder,\n",
    "                  array_join(transform(cast((json_extract(data,'$.failureReasons')) as array<json>),x->json_extract(x,'$.failureExpression')), ', ') as failureExpression,\n",
    "                  transform(cast((json_extract(data,'$.failureReasons')) as array<json>),x->json_extract_scalar(x,'$.failureValue')) as failureValue,\n",
    "                  from_unixtime(cast(lastredeemon as bigint)/1000,'Asia/Kolkata') as lastredeemon,status,tpstatus\n",
    "                  from raw.kafka_redeem_transactions_immutable\n",
    "                  where yyyymmdd='{startdate.strftime('%Y%m%d')}'\n",
    "                  and (approver is null\n",
    "                  or lower(approver) like '%dashboard%')\n",
    "            )\n",
    "            select * from tbl\n",
    "            where r=1\n",
    "      \"\"\"\n",
    "      print(startdate)\n",
    "      df=pd.read_sql(q,metabase_connection)\n",
    "      RedeemDataLoad=pd.concat([RedeemDataLoad,df],axis=0)\n",
    "      startdate=startdate+timedelta(days=1)"
   ]
  },
  {
   "cell_type": "code",
   "execution_count": 114,
   "metadata": {},
   "outputs": [],
   "source": [
    "RedeemDataLoad.to_csv('dashboardredemdata.csv')"
   ]
  },
  {
   "cell_type": "code",
   "execution_count": 102,
   "metadata": {},
   "outputs": [
    {
     "data": {
      "text/plain": [
       "\"['_id', 'yyyymmdd', 'hhmmss', 'quarter_hour', 'epoch', 'updated_yyyymmdd', 'updated_hhmmss', 'updated_epoch', 'updated_quarter_hour', 'updated', 'eventname', 'eventid', 'eventtime', 'version', 'transactiontype', 'uniqueid', 'amount', 'type', 'userid', 'status', 'createdon', 'date', 'message', 'autoapproval', 'userdata', 'userdata_name', 'userdata_mobile', 'userdata_city', 'userdata_shift', 'lastredeemon', 'upidetails', 'upidetails_upiid', 'upidetails_name', 'approver', 'gateway', 'tpid', 'tpmessage', 'tpstatus', 'accountdetails', 'accountdetails_name', 'accountdetails_ifsc', 'accountdetails_accountno', 'accountdetails_branch', 'penaltydata', 'updatelogs', 'updatelog', 'updatelog_status', 'updatelog_userid', 'updatelog_message', 'updatelog_remarks', 'updatelog_regionalremarks', 'updatelog_regionalupdatetimestamp', 'updatelog_timestamp', 'updatelog_color', 'updatelog_penaltyamount', 'updatelog_level', 'updatelog_updatedby', 'updatelog_regionaluserid', 'updatelog_regionalupdatedby', 'bank_reference_number', 'lastupdatedon', 'updatedat', 'burnperorder', 'reftransactionid', 'remarks', 'isfirstredeem', 'rapidopaymetadata_location_lat', 'rapidopaymetadata_location_long', 'rapidopaymetadata_location', 'rapidopaymetadata_purpose', 'rapidopaymetadata', 'failurereasons', 'isscheduledredeem', 'fraudtags', 'data']\""
      ]
     },
     "execution_count": 102,
     "metadata": {},
     "output_type": "execute_result"
    }
   ],
   "source": [
    "str(columns)"
   ]
  },
  {
   "cell_type": "code",
   "execution_count": 115,
   "metadata": {},
   "outputs": [
    {
     "data": {
      "text/plain": [
       "Index(['redeemId', 'uniqueid', 'yyyymmdd', 'userdata_city', 'r', 'approver',\n",
       "       'order_id', 'distance', 'serviceId', 'finalIncentiveOrder',\n",
       "       'failureExpression', 'failureValue', 'lastredeemon', 'status',\n",
       "       'tpstatus'],\n",
       "      dtype='object')"
      ]
     },
     "execution_count": 115,
     "metadata": {},
     "output_type": "execute_result"
    }
   ],
   "source": [
    "RedeemDataLoad.columns"
   ]
  },
  {
   "cell_type": "code",
   "execution_count": null,
   "metadata": {},
   "outputs": [],
   "source": []
  }
 ],
 "metadata": {
  "kernelspec": {
   "display_name": "Python 3 (ipykernel)",
   "language": "python",
   "name": "python3"
  },
  "language_info": {
   "codemirror_mode": {
    "name": "ipython",
    "version": 3
   },
   "file_extension": ".py",
   "mimetype": "text/x-python",
   "name": "python",
   "nbconvert_exporter": "python",
   "pygments_lexer": "ipython3",
   "version": "3.12.7"
  }
 },
 "nbformat": 4,
 "nbformat_minor": 2
}
